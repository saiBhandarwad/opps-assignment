{
 "cells": [
  {
   "cell_type": "code",
   "execution_count": 6,
   "id": "168da93d-ff0c-4ca5-b81e-b655aa480390",
   "metadata": {},
   "outputs": [
    {
     "name": "stdout",
     "output_type": "stream",
     "text": [
      "Boppi is 10 years old and he has fire power\n",
      "loki is 15 years old and he can copy moves of his opponent\n"
     ]
    }
   ],
   "source": [
    "# Q1.ANS=>\n",
    "\"\"\"         Class\t                                                  Object\n",
    "Class is a logical entity.\t             Object is a physical entity,An object is called as an instance of a class.\n",
    "Class can only be declared once.\t     Object can be created many times as per requirement.\n",
    "Example of class can be car.\t         Objects of the class car can be BMW, Mercedes, jaguar, etc.\"\"\"\n",
    "\n",
    "class slug:\n",
    "\n",
    "    # class attribute\n",
    "    name = \"\"\n",
    "    age = 0\n",
    "\n",
    "# create animal1 object\n",
    "animal1 = slug()\n",
    "animal1.name = \"Boppi\"\n",
    "animal1.age = 10\n",
    "\n",
    "# create another object animal2\n",
    "animal2 = slug()\n",
    "animal2.name = \"loki\"\n",
    "animal2.age = 15\n",
    "\n",
    "# access attributes\n",
    "print(f\"{animal1.name} is {animal1.age} years old and he has fire power\")\n",
    "print(f\"{animal2.name} is {animal2.age} years old and he can copy moves of his opponent\")"
   ]
  },
  {
   "cell_type": "code",
   "execution_count": null,
   "id": "54174de1-1c7b-473e-b8ef-ced87637a0c8",
   "metadata": {},
   "outputs": [],
   "source": [
    "# Q2.ANS=>\n",
    " # Inheritance, Polymorphism, Encapsulation and Abstraction these are four pillars of oops"
   ]
  },
  {
   "cell_type": "code",
   "execution_count": 11,
   "id": "eb5bff2a-f758-493a-bea0-e68fe8129822",
   "metadata": {},
   "outputs": [
    {
     "name": "stdout",
     "output_type": "stream",
     "text": [
      "sai is 23 year old\n"
     ]
    }
   ],
   "source": [
    "# Q3.ANS=>\n",
    "\n",
    "'''__init__ is one of the reserved methods in Python. In object oriented programming, it is known as a constructor. The __init__ method\n",
    "can be called when an object is created from the class, and access is required to initialize the attributes of the class.'''\n",
    "\n",
    "class student:\n",
    "    def __init__(self, name, age):\n",
    "        self.name = name\n",
    "        self.age = age\n",
    "\n",
    "s1 = student(\"sai\", 23)\n",
    "\n",
    "print(f\"{s1.name} is {s1.age} year old\")\n"
   ]
  },
  {
   "cell_type": "code",
   "execution_count": null,
   "id": "db36f233-1516-4b62-aeb5-ad81110bc0dc",
   "metadata": {},
   "outputs": [],
   "source": [
    "# Q4.ANS=>\n",
    "'''The self variable is used to represent the instance of the class which is often used in object-oriented programming. \n",
    "It works as a reference to the object. Python uses the self parameter to refer to instance attributes and methods of the class'''"
   ]
  },
  {
   "cell_type": "code",
   "execution_count": 13,
   "id": "396c90a2-14f2-4004-83ce-49dcbed79fd8",
   "metadata": {},
   "outputs": [
    {
     "name": "stdout",
     "output_type": "stream",
     "text": [
      "This function is in parent class.\n",
      "This function is in child class.\n",
      "Father : RAM\n",
      "Mother : SITA\n"
     ]
    }
   ],
   "source": [
    "# Q5.ANS=>\n",
    "\n",
    "'''Inheritance is a mechanism of acquiring the features and behaviors of a class by another class'''\n",
    "\n",
    "# single inheritance=>\n",
    "\n",
    "# parrent class\n",
    "class Parent:\n",
    "\tdef func1(self):\n",
    "\t\tprint(\"This function is in parent class.\")\n",
    "\n",
    "# child class\n",
    "\n",
    "\n",
    "class Child(Parent):\n",
    "\tdef func2(self):\n",
    "\t\tprint(\"This function is in child class.\")\n",
    "\n",
    "\n",
    "# Driver's code\n",
    "object = Child()\n",
    "object.func1()\n",
    "object.func2()\n",
    "\n",
    "\n",
    "# multiple inheritance\n",
    "\n",
    "# Parent class1\n",
    "class Mother:\n",
    "\tmothername = \"\"\n",
    "\n",
    "\tdef mother(self):\n",
    "\t\tprint(self.mothername)\n",
    "\n",
    "# Parent class2\n",
    "\n",
    "\n",
    "class Father:\n",
    "\tfathername = \"\"\n",
    "\n",
    "\tdef father(self):\n",
    "\t\tprint(self.fathername)\n",
    "\n",
    "# Derived class\n",
    "\n",
    "\n",
    "class Son(Mother, Father):\n",
    "\tdef parents(self):\n",
    "\t\tprint(\"Father :\", self.fathername)\n",
    "\t\tprint(\"Mother :\", self.mothername)\n",
    "\n",
    "\n",
    "\n",
    "s1 = Son()\n",
    "s1.fathername = \"RAM\"\n",
    "s1.mothername = \"SITA\"\n",
    "s1.parents()\n",
    "\n",
    "\n",
    "# multilevel inheritance\n",
    "\n",
    "# Base class\n",
    "\n",
    "\n",
    "class Grandfather:\n",
    "\n",
    "\tdef __init__(self, grandfathername):\n",
    "\t\tself.grandfathername = grandfathername\n",
    "\n",
    "# Intermediate class\n",
    "\n",
    "\n",
    "class Father(Grandfather):\n",
    "\tdef __init__(self, fathername, grandfathername):\n",
    "\t\tself.fathername = fathername\n",
    "\n",
    "\t\t# invoking constructor of Grandfather class\n",
    "\t\tGrandfather.__init__(self, grandfathername)\n",
    "\n",
    "# Derived class\n",
    "\n",
    "\n",
    "class Son(Father):\n",
    "\tdef __init__(self, sonname, fathername, grandfathername):\n",
    "\t\tself.sonname = sonname\n",
    "\n",
    "\t\t# invoking constructor of Father class\n",
    "\t\tFather.__init__(self, fathername, grandfathername)\n",
    "\n",
    "\tdef print_name(self):\n",
    "\t\tprint('Grandfather name :', self.grandfathername)\n",
    "\t\tprint(\"Father name :\", self.fathername)\n",
    "\t\tprint(\"Son name :\", self.sonname)\n",
    "\n",
    "\n",
    "s1 = Son('Prince', 'Rampal', 'Lal mani')\n",
    "print(s1.grandfathername)\n",
    "s1.print_name()\n"
   ]
  },
  {
   "cell_type": "code",
   "execution_count": null,
   "id": "13ebcd17-7bd7-468a-a1da-1c88f71f80f0",
   "metadata": {},
   "outputs": [],
   "source": []
  }
 ],
 "metadata": {
  "kernelspec": {
   "display_name": "Python 3 (ipykernel)",
   "language": "python",
   "name": "python3"
  },
  "language_info": {
   "codemirror_mode": {
    "name": "ipython",
    "version": 3
   },
   "file_extension": ".py",
   "mimetype": "text/x-python",
   "name": "python",
   "nbconvert_exporter": "python",
   "pygments_lexer": "ipython3",
   "version": "3.10.8"
  }
 },
 "nbformat": 4,
 "nbformat_minor": 5
}
